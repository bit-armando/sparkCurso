{
 "cells": [
  {
   "cell_type": "code",
   "execution_count": 1,
   "metadata": {},
   "outputs": [],
   "source": [
    "import findspark\n",
    "findspark.init()\n",
    "\n",
    "from pyspark import SparkContext\n",
    "from pyspark.sql import SparkSession"
   ]
  },
  {
   "cell_type": "code",
   "execution_count": 9,
   "metadata": {},
   "outputs": [],
   "source": [
    "sc = SparkContext(master='local', appName='TransformacionesYacciones')"
   ]
  },
  {
   "cell_type": "code",
   "execution_count": 11,
   "metadata": {},
   "outputs": [
    {
     "data": {
      "text/plain": [
       "pyspark.rdd.RDD"
      ]
     },
     "execution_count": 11,
     "metadata": {},
     "output_type": "execute_result"
    }
   ],
   "source": [
    "rdd1 = sc.parallelize([1,2,3])\n",
    "type(rdd1)"
   ]
  },
  {
   "cell_type": "markdown",
   "metadata": {},
   "source": [
    "Solo ejecutar `collect()` cuando la cantidad de datos que queremos mostrar es muy pequeña\n",
    "Ya que cabe la posibilidad de que en nuestros datos existan miles de millones de datos\n",
    "Y esto es muy **peligroso** en produccion ya que puede tumbar el servidor o puede tar varios minutos\n",
    "en ejecutarse atrasando toda la produccion"
   ]
  },
  {
   "cell_type": "code",
   "execution_count": 12,
   "metadata": {},
   "outputs": [
    {
     "data": {
      "text/plain": [
       "[1, 2, 3]"
      ]
     },
     "execution_count": 12,
     "metadata": {},
     "output_type": "execute_result"
    }
   ],
   "source": [
    "rdd1.collect()"
   ]
  },
  {
   "cell_type": "code",
   "execution_count": 5,
   "metadata": {},
   "outputs": [
    {
     "data": {
      "text/html": [
       "\n",
       "        <div>\n",
       "            <p><b>SparkContext</b></p>\n",
       "\n",
       "            <p><a href=\"http://172.28.10.209:4040\">Spark UI</a></p>\n",
       "\n",
       "            <dl>\n",
       "              <dt>Version</dt>\n",
       "                <dd><code>v3.4.1</code></dd>\n",
       "              <dt>Master</dt>\n",
       "                <dd><code>local</code></dd>\n",
       "              <dt>AppName</dt>\n",
       "                <dd><code>TransformacionesYacciones</code></dd>\n",
       "            </dl>\n",
       "        </div>\n",
       "        "
      ],
      "text/plain": [
       "<SparkContext master=local appName=TransformacionesYacciones>"
      ]
     },
     "execution_count": 5,
     "metadata": {},
     "output_type": "execute_result"
    }
   ],
   "source": [
    "sc"
   ]
  },
  {
   "cell_type": "markdown",
   "metadata": {},
   "source": [
    "Cargamos un archivo a un RDD es comun ver que utilizen una lambda"
   ]
  },
  {
   "cell_type": "code",
   "execution_count": 19,
   "metadata": {},
   "outputs": [],
   "source": [
    "path = '/home/armando/sparkCurso/data/'\n",
    "\n",
    "equipos_olimpicosRDD = sc.textFile(path+'paises.csv') \\\n",
    "    .map(lambda line: line.split(','))"
   ]
  },
  {
   "cell_type": "markdown",
   "metadata": {},
   "source": [
    "En ligar de `collect()` usaremos `take()` que solo muestra una cantidad determinada de valores"
   ]
  },
  {
   "cell_type": "code",
   "execution_count": 24,
   "metadata": {},
   "outputs": [
    {
     "data": {
      "text/plain": [
       "[['id', 'equipo', 'sigla'],\n",
       " ['1', '30. Februar', 'AUT'],\n",
       " ['2', 'A North American Team', 'MEX'],\n",
       " ['3', 'Acipactli', 'MEX'],\n",
       " ['4', 'Acturus', 'ARG']]"
      ]
     },
     "execution_count": 24,
     "metadata": {},
     "output_type": "execute_result"
    }
   ],
   "source": [
    "equipos_olimpicosRDD.take(5)"
   ]
  },
  {
   "cell_type": "markdown",
   "metadata": {},
   "source": [
    "La siguiente Query toma los equipos olimpicos toma el parametro de la siglas para al ultimo hacerle metodos de SQL\n",
    "\n",
    "como lo son el `distinct` que solo toma valores unicos \n",
    "\n",
    "y `count` que hace un conteo de todos los resultados unicos"
   ]
  },
  {
   "cell_type": "markdown",
   "metadata": {},
   "source": [
    "El header es importante que lo toma desde el 0\n",
    "|id|equipo  |sigla|\n",
    "|--|--------|-----|\n",
    "| 0|1       |2    |"
   ]
  },
  {
   "cell_type": "code",
   "execution_count": 21,
   "metadata": {},
   "outputs": [
    {
     "data": {
      "text/plain": [
       "231"
      ]
     },
     "execution_count": 21,
     "metadata": {},
     "output_type": "execute_result"
    }
   ],
   "source": [
    "equipos_olimpicosRDD.map(lambda x: (x[2])).distinct().count()"
   ]
  },
  {
   "cell_type": "markdown",
   "metadata": {},
   "source": [
    "Esta Query lo que hace es que toma una llave`(x[2])` en este caso es la sigla del pais y un valor`(x[1])`\n",
    "que es el equipo\n",
    "\n",
    "- `groupByKey` los agrupara con la llave que es la sigla\n",
    "- `mapValues(len)` recorera todos los valores y el parametro len retornara cuantos equipos hay en cada pais\n"
   ]
  },
  {
   "cell_type": "code",
   "execution_count": 22,
   "metadata": {},
   "outputs": [
    {
     "data": {
      "text/plain": [
       "[('sigla', 1), ('AUT', 11), ('MEX', 9), ('ARG', 18), ('AFG', 1)]"
      ]
     },
     "execution_count": 22,
     "metadata": {},
     "output_type": "execute_result"
    }
   ],
   "source": [
    "equipos_olimpicosRDD.map(lambda x: (x[2],x[1])).groupByKey().mapValues(len).take(5)"
   ]
  },
  {
   "cell_type": "markdown",
   "metadata": {},
   "source": [
    "- `filter` filtra nuestra data de acuerdo a un parametro en este caso obtenemos los equipo de **MEX**"
   ]
  },
  {
   "cell_type": "code",
   "execution_count": 33,
   "metadata": {},
   "outputs": [
    {
     "data": {
      "text/plain": [
       "[['2', 'A North American Team', 'MEX'],\n",
       " ['3', 'Acipactli', 'MEX'],\n",
       " ['193', 'Chamukina', 'MEX'],\n",
       " ['656', 'Mexico', 'MEX'],\n",
       " ['657', 'Mexico-1', 'MEX'],\n",
       " ['658', 'Mexico-2', 'MEX'],\n",
       " ['700', 'Nausikaa 4', 'MEX'],\n",
       " ['1053', 'Tlaloc', 'MEX'],\n",
       " ['1168', 'Xolotl', 'MEX']]"
      ]
     },
     "execution_count": 33,
     "metadata": {},
     "output_type": "execute_result"
    }
   ],
   "source": [
    "eqipos_MEX = equipos_olimpicosRDD.filter(lambda l: 'MEX' in l)\n",
    "eqipos_MEX.collect()"
   ]
  },
  {
   "cell_type": "markdown",
   "metadata": {},
   "source": [
    "Para unir data tenemos el metodo de `union` que solo toma como parametro el RDD que queremos indexar"
   ]
  },
  {
   "cell_type": "code",
   "execution_count": 25,
   "metadata": {},
   "outputs": [],
   "source": [
    "deportista_olimpicoRDD = sc.textFile(path+'deportista.csv', ) \\\n",
    "    .map(lambda l: l.split(','))\n",
    "\n",
    "deportista_olimpicoRDD2 = sc.textFile(path+'deportista2.csv', ) \\\n",
    "    .map(lambda l: l.split(','))\n",
    "    \n",
    "deportista_olimpicoRDD = deportista_olimpicoRDD.union(deportista_olimpicoRDD2)"
   ]
  },
  {
   "cell_type": "code",
   "execution_count": 26,
   "metadata": {},
   "outputs": [
    {
     "name": "stderr",
     "output_type": "stream",
     "text": [
      "                                                                                \r"
     ]
    },
    {
     "data": {
      "text/plain": [
       "135572"
      ]
     },
     "execution_count": 26,
     "metadata": {},
     "output_type": "execute_result"
    }
   ],
   "source": [
    "deportista_olimpicoRDD.count()"
   ]
  },
  {
   "cell_type": "markdown",
   "metadata": {},
   "source": [
    "Para unir dos RDDs de archivos diferentes tiene que tener una relacion entre ellos una ForeingKey\n",
    "<image src=\"data/modelo_relacional.jpg\" alt=\"Descripción de la imagen\">"
   ]
  },
  {
   "cell_type": "code",
   "execution_count": 29,
   "metadata": {},
   "outputs": [
    {
     "data": {
      "text/plain": [
       "[['id', 'equipo', 'sigla'], ['999', 'Stella-2', 'NOR']]"
      ]
     },
     "execution_count": 29,
     "metadata": {},
     "output_type": "execute_result"
    }
   ],
   "source": [
    "equipos_olimpicosRDD.top(2)"
   ]
  },
  {
   "cell_type": "code",
   "execution_count": 30,
   "metadata": {},
   "outputs": [
    {
     "name": "stderr",
     "output_type": "stream",
     "text": [
      "                                                                                \r"
     ]
    },
    {
     "data": {
      "text/plain": [
       "[['deportista_id', 'nombre', 'genero', 'edad', 'altura', 'peso', 'equipo_id'],\n",
       " ['99999', 'Alexander Grant Alick Rennie', '1', '32', '182', '71', '967']]"
      ]
     },
     "execution_count": 30,
     "metadata": {},
     "output_type": "execute_result"
    }
   ],
   "source": [
    "deportista_olimpicoRDD.top(2)"
   ]
  },
  {
   "cell_type": "markdown",
   "metadata": {},
   "source": [
    "Vemos que la FK es el id del equipo \n",
    "\n",
    "De igual manera que tomaremos la ultima columna del deportista junto con todos los valores que este tiene menos el ultimo\n",
    "\n",
    "En el join juntaremos solo el id del pais y las siglas del mismo\n",
    "\n",
    "`takeSample` toma 3 parametros \n",
    "- El primero es que si queremos que los valores se repitan\n",
    "- El segundo la cantidad de ejemplos que queremos mostrar\n",
    "- Y el tercero es una semilla que le asignamos"
   ]
  },
  {
   "cell_type": "code",
   "execution_count": 53,
   "metadata": {},
   "outputs": [
    {
     "name": "stderr",
     "output_type": "stream",
     "text": [
      "                                                                                \r"
     ]
    }
   ],
   "source": [
    "equipo_deportista = equipos_olimpicosRDD.join(deportista_olimpicoRDD).take(6)"
   ]
  },
  {
   "cell_type": "code",
   "execution_count": 56,
   "metadata": {},
   "outputs": [
    {
     "name": "stderr",
     "output_type": "stream",
     "text": [
      "                                                                                \r"
     ]
    },
    {
     "data": {
      "text/plain": [
       "[('199', (['1', 'A Dijiang', '1', '24', '180', '80'], 'CHN')),\n",
       " ('199', (['2', 'A Lamusi', '1', '23', '170', '60'], 'CHN')),\n",
       " ('199', (['602', 'Abudoureheman', '1', '22', '182', '75'], 'CHN')),\n",
       " ('199', (['1463', 'Ai Linuer', '1', '25', '160', '62'], 'CHN')),\n",
       " ('199', (['1464', 'Ai Yanhan', '2', '14', '168', '54'], 'CHN')),\n",
       " ('199', (['3605', 'An Weijiang', '1', '22', '178', '72'], 'CHN'))]"
      ]
     },
     "execution_count": 56,
     "metadata": {},
     "output_type": "execute_result"
    }
   ],
   "source": [
    "deportista_paises = deportista_olimpicoRDD.map(lambda l: [l[-1], l[:-1]]) \\\n",
    "    .join(equipos_olimpicosRDD.map(lambda x: [x[0], x[2]]))\n",
    "\n",
    "deportista_paises.take(6)"
   ]
  },
  {
   "cell_type": "markdown",
   "metadata": {},
   "source": [
    "Obtenemos el archivo de resultado"
   ]
  },
  {
   "cell_type": "code",
   "execution_count": 38,
   "metadata": {},
   "outputs": [],
   "source": [
    "resultadoRDD = sc.textFile(path+'resultados.csv', ) \\\n",
    "    .map(lambda l: l.split(','))"
   ]
  },
  {
   "cell_type": "markdown",
   "metadata": {},
   "source": [
    "Filtramos omitiendo a todos aquellos que no han ganado una medalla"
   ]
  },
  {
   "cell_type": "code",
   "execution_count": 39,
   "metadata": {},
   "outputs": [],
   "source": [
    "resultado_ganadorRDD = resultadoRDD.filter(lambda l: 'NA' not in l[1])"
   ]
  },
  {
   "cell_type": "code",
   "execution_count": 40,
   "metadata": {},
   "outputs": [
    {
     "data": {
      "text/plain": [
       "[['resultado_id', 'medalla', 'deportista_id', 'juego_id', 'evento_id'],\n",
       " ['4', 'Gold', '4', '2', '4'],\n",
       " ['38', 'Bronze', '15', '7', '19'],\n",
       " ['39', 'Bronze', '15', '7', '20'],\n",
       " ['41', 'Bronze', '16', '50', '14']]"
      ]
     },
     "execution_count": 40,
     "metadata": {},
     "output_type": "execute_result"
    }
   ],
   "source": [
    "resultado_ganadorRDD.take(5)"
   ]
  },
  {
   "cell_type": "code",
   "execution_count": 54,
   "metadata": {},
   "outputs": [
    {
     "name": "stderr",
     "output_type": "stream",
     "text": [
      "                                                                                \r"
     ]
    },
    {
     "data": {
      "text/plain": [
       "[('1090',\n",
       "  ((['9150', 'Yelena Yuryevna Bechke Petrova Ellis ', '2', '26', '158', '48'],\n",
       "    'EUN'),\n",
       "   'Bronze')),\n",
       " ('1090',\n",
       "  ((['9819', 'Gennady Vladimirovich Belyakov', '1', '23', '171', '84'], 'EUN'),\n",
       "   'Bronze')),\n",
       " ('1090',\n",
       "  ((['41896', 'Andrey Vladimirovich Gorokhov', '1', '23', '185', '92'], 'EUN'),\n",
       "   'Bronze')),\n",
       " ('1090',\n",
       "  ((['64345', 'Sergey Valeryevich Kruglov', '1', '31', '0', '0'], 'EUN'),\n",
       "   'Bronze')),\n",
       " ('1090',\n",
       "  ((['70906', 'Igor Vladimirovich Lobanov', '1', '22', '181', '78'], 'EUN'),\n",
       "   'Bronze')),\n",
       " ('1090',\n",
       "  ((['90775', 'Irina Vladimirovna Palina', '2', '22', '162', '60'], 'EUN'),\n",
       "   'Bronze'))]"
      ]
     },
     "execution_count": 54,
     "metadata": {},
     "output_type": "execute_result"
    }
   ],
   "source": [
    "deportista_paises.join(resultado_ganadorRDD).take(6)"
   ]
  }
 ],
 "metadata": {
  "kernelspec": {
   "display_name": "data",
   "language": "python",
   "name": "python3"
  },
  "language_info": {
   "codemirror_mode": {
    "name": "ipython",
    "version": 3
   },
   "file_extension": ".py",
   "mimetype": "text/x-python",
   "name": "python",
   "nbconvert_exporter": "python",
   "pygments_lexer": "ipython3",
   "version": "3.11.2"
  },
  "orig_nbformat": 4
 },
 "nbformat": 4,
 "nbformat_minor": 2
}
